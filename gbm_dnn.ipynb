{
 "cells": [
  {
   "cell_type": "code",
   "execution_count": 86,
   "metadata": {},
   "outputs": [],
   "source": [
    "import pandas as pd\n",
    "import json\n",
    "import matplotlib.pyplot as plt\n",
    "import numpy as np\n",
    "from transformers import DistilBertTokenizer, DistilBertModel\n",
    "\n",
    "import torch\n",
    "import torch.nn as nn\n",
    "import torch.optim as optim\n",
    "from tqdm import tqdm\n",
    "from sklearn.preprocessing import StandardScaler\n",
    "from torch.utils.data import Dataset, DataLoader\n",
    "from sklearn.base import BaseEstimator, RegressorMixin\n",
    "from torch.utils.data import DataLoader, TensorDataset\n",
    "\n",
    "from sklearn.model_selection import GridSearchCV\n",
    "from sklearn.metrics import mean_squared_error\n",
    "from sklearn.preprocessing import StandardScaler"
   ]
  },
  {
   "cell_type": "code",
   "execution_count": 87,
   "metadata": {},
   "outputs": [],
   "source": [
    "credits = pd.read_csv(\"tmdb_movie_metadata/tmdb_5000_credits.csv\")\n",
    "credits.rename(columns={'movie_id': 'id'}, inplace=True)\n",
    "credits.drop(\"title\", axis=1, inplace=True, )\n",
    "movies = pd.read_csv(\"tmdb_movie_metadata/tmdb_5000_movies.csv\")\n",
    "data = movies.merge(credits, on=\"id\")\n",
    "\n",
    "data = data[data['revenue'] != 0]\n",
    "data = data[data['budget'] != 0]"
   ]
  },
  {
   "cell_type": "code",
   "execution_count": 88,
   "metadata": {},
   "outputs": [],
   "source": [
    "class cast_member:\n",
    "    def __init__(self, name, character, gender):\n",
    "        self.name = name\n",
    "        self.character = character\n",
    "        self.gender = gender\n",
    "\n",
    "class crew_member:\n",
    "    def __init__(self, name, job, department):\n",
    "        self.name = name\n",
    "        self.job = job\n",
    "        self.department = department"
   ]
  },
  {
   "cell_type": "code",
   "execution_count": 89,
   "metadata": {},
   "outputs": [],
   "source": [
    "def convert_dict_to_1d_list(json_str):\n",
    "    json_dict = json.loads(json_str)\n",
    "    return_list = []\n",
    "    for item in json_dict:\n",
    "        return_list.append(item['name'])\n",
    "    return return_list\n",
    "\n",
    "def convert_dict_to_class_list(json_str, class_type, dimension1, dimension2, dimension3='none'):\n",
    "    json_dict = json.loads(json_str)\n",
    "    return_list = []\n",
    "    for item in json_dict:\n",
    "        if class_type == 'cast_members':\n",
    "            gender = item.get(dimension3, None)\n",
    "            tmp_person = cast_member(item[dimension1], item[dimension2], gender)\n",
    "            return_list.append(tmp_person)\n",
    "        elif class_type == 'crew_members':\n",
    "            department = item.get(dimension3, None)\n",
    "            tmp_person = crew_member(item[dimension1], item[dimension2], department)\n",
    "            return_list.append(tmp_person)\n",
    "    return return_list\n",
    "\n",
    "def get_director(crew_list):\n",
    "    for item in crew_list:\n",
    "        if item.job == 'Director':\n",
    "            return item.name\n",
    "    return 'none'\n",
    "\n",
    "def get_crew_member_count_by_job(crew_list, job_type):\n",
    "    crew_member_count = 0\n",
    "    for item in crew_list:\n",
    "        if job_type in item.job:\n",
    "            crew_member_count += 1\n",
    "    return crew_member_count\n",
    "\n",
    "def get_department_size(crew_list, department):\n",
    "    department_size = 0\n",
    "    for item in crew_list:\n",
    "        if department in item.department:\n",
    "            department_size += 1\n",
    "    return department_size\n",
    "\n",
    "def get_cast_number(cast_list, gender):\n",
    "    cast_count = 0\n",
    "    for item in cast_list:\n",
    "        if str(item.gender) == str(gender):\n",
    "            cast_count += 1\n",
    "    return cast_count"
   ]
  },
  {
   "cell_type": "code",
   "execution_count": 90,
   "metadata": {},
   "outputs": [],
   "source": [
    "x = data.copy()\n",
    "\n",
    "x['genres']  =  x['genres'].apply(convert_dict_to_1d_list)\n",
    "x['keywords'] = x['keywords'].apply(convert_dict_to_1d_list)\n",
    "x['production_companies'] = x['production_companies'].apply(convert_dict_to_1d_list)\n",
    "x['production_countries'] = x['production_countries'].apply(convert_dict_to_1d_list)\n",
    "\n",
    "x['country'] = x['production_countries'].apply(lambda x:x[0] if len(x)>0 else None)\n",
    "\n",
    "x['cast'] = x['cast'].apply(convert_dict_to_class_list,\n",
    "                                                              args=('cast_members', 'name', 'character', 'gender'))\n",
    "x['crew'] = x['crew'].apply(convert_dict_to_class_list,\n",
    "                                                              args=('crew_members', 'name', 'job', 'department'))\n",
    "\n",
    "x['director_name'] = x['crew'].apply(get_director)\n",
    "\n",
    "x['dominant_genre'] = x['genres'].apply(lambda x:x[0] if len(x)>0 else 'none')\n",
    "\n",
    "x['title_year'] = pd.to_datetime(x['release_date']).apply(lambda x:0 if pd.isnull(x.year) else int(x.year))\n",
    "\n",
    "x['release_week'] = pd.to_datetime(x['release_date']).apply(lambda x:0 if pd.isnull(x.week) else int(x.week))\n",
    "\n",
    "x['cast_size'] = x['cast'].apply(lambda x:len(x) if len(x)>0 else 0)\n",
    "x['crew_size'] = x['crew'].apply(lambda x:len(x) if len(x)>0 else 0)\n",
    "x['number_production_companies'] = x['production_companies'].apply(lambda x:len(x) if len(x)>0 else 0)\n",
    "\n",
    "x['director_count'] = x['crew'].apply(get_crew_member_count_by_job, args=('Director',))\n",
    "x['writer_count'] = x['crew'].apply(get_crew_member_count_by_job, args=('Screenplay',))\n",
    "x['editor_count'] = x['crew'].apply(get_crew_member_count_by_job, args=('Editor',))\n",
    "\n",
    "x['sound_department_size'] = x['crew'].apply(get_department_size, args=('Sound',))\n",
    "x['costume_department_size'] = x['crew'].apply(get_department_size, args=('Costume & Make-Up',))\n",
    "x['editing_department_size'] = x['crew'].apply(get_department_size, args=('Editing',))\n",
    "x['production_department_size'] = x['crew'].apply(get_department_size, args=('Production',))\n",
    "x['art_department_size'] = x['crew'].apply(get_department_size, args=('Art',))\n",
    "x['camera_department_size'] = x['crew'].apply(get_department_size, args=('Camera',))\n",
    "x['vx_department_size'] = x['crew'].apply(get_department_size, args=('Visual Effects',))\n",
    "\n",
    "x['male_cast_count'] = x['cast'].apply(get_cast_number, args = ('2'))\n",
    "x['female_cast_count'] = x['cast'].apply(get_cast_number, args = ('1'))\n",
    "x['unstated_gender_cast_count'] = x['cast'].apply(get_cast_number, args = ('0'))\n",
    "\n",
    "x['spoken_languages'] = x['spoken_languages'].apply(convert_dict_to_1d_list)\n",
    "\n",
    "# x['genres'] = x['genres'].fillna(None)\n",
    "# x['keywords'] = x['keywords'].fillna(None)\n",
    "# x['overview'] = x['overview'].fillna(None)\n",
    "# x['country'] = x['country'].fillna(None)\n",
    "# x['director_name'] = x['director_name'].fillna(None)\n"
   ]
  },
  {
   "cell_type": "code",
   "execution_count": 91,
   "metadata": {},
   "outputs": [],
   "source": [
    "def one_hot_encoder(df, column_to_encode, control_df, control_subset_size, control_column, output_prefix):\n",
    "    control_list = set(control_df.nlargest(control_subset_size, control_column)[control_column])\n",
    "\n",
    "    def encode_item(item):\n",
    "        if isinstance(item, list):\n",
    "            encoded = {output_prefix + elem.replace(\" \", \"\"): 1 for elem in item if elem in control_list}\n",
    "        else:\n",
    "            encoded = {output_prefix + item.replace(\" \", \"\"): 1 if item in control_list else 0}\n",
    "        return encoded\n",
    "\n",
    "    encoded_data = df[column_to_encode].apply(lambda x: encode_item(x) if pd.notna(x) else {})\n",
    "\n",
    "    encoded_df = pd.DataFrame(list(encoded_data)).fillna(0).astype(int)\n",
    "\n",
    "    df = df.drop(column_to_encode, axis=1).reset_index(drop=True)\n",
    "    df = pd.concat([df, encoded_df], axis=1)\n",
    "\n",
    "    return df\n"
   ]
  },
  {
   "cell_type": "code",
   "execution_count": 92,
   "metadata": {},
   "outputs": [],
   "source": [
    "from collections import defaultdict\n",
    "def calculate_average_revenue(df, column):\n",
    "    revenue_sum = defaultdict(float)\n",
    "    count = defaultdict(int)\n",
    "\n",
    "    for index, row in df.iterrows():\n",
    "        entities = [row[column]] if isinstance(row[column], str) else row[column]\n",
    "        if entities is None:\n",
    "            continue\n",
    "        for entity in entities:\n",
    "            revenue_sum[entity] += row['revenue']\n",
    "            count[entity] += 1\n",
    "\n",
    "    # Calculate average revenue\n",
    "    average_revenue = {entity: revenue_sum[entity] / count[entity] for entity in revenue_sum}\n",
    "\n",
    "    return average_revenue\n",
    "\n",
    "def one_hot_encode_top_x_by_revenue(df, columns, top_x):\n",
    "    one_hot_encoded_dfs = []  # To hold one-hot encoded DataFrames for each column before concatenating\n",
    "    for column in columns:\n",
    "        average_revenue = calculate_average_revenue(df, column)\n",
    "\n",
    "        # Sort entities based on average revenue and select top X\n",
    "        top_entities = sorted(average_revenue, key=average_revenue.get, reverse=True)[:top_x]\n",
    "\n",
    "        # Prepare a dict to hold the encoded data\n",
    "        encoded_data = {f'{column}_is_{entity}': [] for entity in top_entities}\n",
    "\n",
    "        # Fill in the encoded data\n",
    "        for index, row in df.iterrows():\n",
    "            entities = [row[column]] if isinstance(row[column], str) else row[column]\n",
    "            if entities is None:\n",
    "                for entity in top_entities:\n",
    "                    encoded_data[f'{column}_is_{entity}'].append(0)\n",
    "                continue\n",
    "            for entity in top_entities:\n",
    "                encoded_data[f'{column}_is_{entity}'].append(1 if entity in entities else 0)\n",
    "\n",
    "        # Convert the encoded data to a DataFrame\n",
    "        encoded_df = pd.DataFrame(encoded_data, index=df.index)\n",
    "        one_hot_encoded_dfs.append(encoded_df)\n",
    "\n",
    "    # Concatenate all one-hot encoded DataFrames with the original DataFrame\n",
    "    df = pd.concat([df] + one_hot_encoded_dfs, axis=1)\n",
    "\n",
    "    return df"
   ]
  },
  {
   "cell_type": "code",
   "execution_count": 93,
   "metadata": {},
   "outputs": [],
   "source": [
    "columns_to_encode = ['director_name', 'production_companies', 'genres', 'spoken_languages', 'country', ]\n",
    "x_onehot = one_hot_encode_top_x_by_revenue(x, columns_to_encode, top_x=10000)"
   ]
  },
  {
   "cell_type": "code",
   "execution_count": 102,
   "metadata": {},
   "outputs": [],
   "source": [
    "columns_to_drop = ['genres', 'homepage', 'id', 'keywords', 'original_language',\n",
    "                   'original_title', 'production_companies',\n",
    "                   'production_countries', 'release_date', 'spoken_languages',\n",
    "                   'status', 'title', 'director_name', 'country',\n",
    "                   'cast', 'crew', 'id', 'dominant_genre', 'vote_count', 'popularity', 'vote_average']\n",
    "\n",
    "x_cleaned = x_onehot.drop(columns=columns_to_drop)\n",
    "x_cleaned = x_cleaned.fillna(0)\n",
    "x_cleaned = x_cleaned.reset_index()"
   ]
  },
  {
   "cell_type": "code",
   "execution_count": 103,
   "metadata": {},
   "outputs": [],
   "source": [
    "taglines = x_cleaned[\"tagline\"].replace(0, \"\")\n",
    "overview = x_cleaned[\"overview\"].replace(0, \"\")\n",
    "\n",
    "descriptions = taglines + \" \" + overview\n",
    "descriptions = descriptions.map(lambda x: x.strip() if isinstance(x, str) else x)"
   ]
  },
  {
   "cell_type": "code",
   "execution_count": 104,
   "metadata": {},
   "outputs": [],
   "source": [
    "Y = x_cleaned['revenue']\n",
    "X = x_cleaned.drop(columns=['revenue', 'overview', 'tagline'], axis=1)\n",
    "\n",
    "# DROP input_ids and attention_mask\n",
    "\n",
    "from sklearn.model_selection import train_test_split\n",
    "\n",
    "X_train, X_test, Y_train, Y_test = train_test_split(X, Y, test_size=0.2, random_state=42)"
   ]
  },
  {
   "cell_type": "code",
   "execution_count": 112,
   "metadata": {},
   "outputs": [
    {
     "name": "stdout",
     "output_type": "stream",
     "text": [
      "Best Parameters: {'learning_rate': 0.01, 'loss': 'squared_error', 'max_depth': 5, 'n_estimators': 500}\n",
      "Best Score (MSE): 1.2129976094625658e+16\n",
      "Test Set Mean Squared Error: 2.272707666963591e+16\n",
      "Test Set R^2 Score: 0.5503614196061817\n"
     ]
    }
   ],
   "source": [
    "from sklearn.ensemble import GradientBoostingRegressor\n",
    "from sklearn.tree import DecisionTreeRegressor\n",
    "from sklearn.model_selection import GridSearchCV\n",
    "from sklearn.metrics import mean_squared_error, r2_score\n",
    "\n",
    "\n",
    "gbm = GradientBoostingRegressor(random_state=42)\n",
    "\n",
    "param_grid = {\n",
    "    'n_estimators': [50, 100, 200, 500],\n",
    "    'learning_rate': [0.001, 0.01, 0.1, 1],\n",
    "    'loss': ['squared_error', \"absolute_error\"],\n",
    "    'max_depth': [1, 2, 3, 4, 5]\n",
    "}\n",
    "\n",
    "grid_search = GridSearchCV(gbm, param_grid, cv=5, scoring='neg_mean_squared_error', n_jobs=-1)\n",
    "\n",
    "grid_search.fit(X_train, Y_train)\n",
    "\n",
    "print(\"Best Parameters:\", grid_search.best_params_)\n",
    "print(\"Best Score (MSE):\", -grid_search.best_score_)\n",
    "\n",
    "best_reg = grid_search.best_estimator_\n",
    "Y_test_pred = best_reg.predict(X_test)\n",
    "\n",
    "mse = mean_squared_error(Y_test, Y_test_pred)\n",
    "r2 = r2_score(Y_test, Y_test_pred)\n",
    "\n",
    "print(\"Test Set Mean Squared Error:\", mse)\n",
    "print(\"Test Set R^2 Score:\", r2)"
   ]
  },
  {
   "cell_type": "code",
   "execution_count": 113,
   "metadata": {},
   "outputs": [
    {
     "name": "stdout",
     "output_type": "stream",
     "text": [
      "Training Set Performance:\n",
      "Mean Squared Error: 4057086465845821.0\n",
      "R^2 Score: 0.8677959372812905\n",
      "\n",
      "Test Set Performance:\n",
      "Mean Squared Error: 2.272707666963591e+16\n",
      "R^2 Score: 0.5503614196061817\n"
     ]
    }
   ],
   "source": [
    "from sklearn.ensemble import GradientBoostingRegressor\n",
    "from sklearn.metrics import mean_squared_error, r2_score\n",
    "import numpy as np\n",
    "\n",
    "gbr = GradientBoostingRegressor(n_estimators=500, learning_rate=0.01, max_depth=5, loss=\"squared_error\", random_state=42)\n",
    "\n",
    "gbr.fit(X_train, Y_train)\n",
    "\n",
    "Y_train_pred = gbr.predict(X_train)\n",
    "Y_test_pred = gbr.predict(X_test)\n",
    "\n",
    "print(\"Training Set Performance:\")\n",
    "print(\"Mean Squared Error:\", mean_squared_error(Y_train, Y_train_pred))\n",
    "print(\"R^2 Score:\", r2_score(Y_train, Y_train_pred))\n",
    "\n",
    "print(\"\\nTest Set Performance:\")\n",
    "print(\"Mean Squared Error:\", mean_squared_error(Y_test, Y_test_pred))\n",
    "print(\"R^2 Score:\", r2_score(Y_test, Y_test_pred))"
   ]
  },
  {
   "cell_type": "code",
   "execution_count": 114,
   "metadata": {},
   "outputs": [
    {
     "name": "stdout",
     "output_type": "stream",
     "text": [
      "cpu\n"
     ]
    }
   ],
   "source": [
    "from transformers import DistilBertTokenizer, DistilBertModel\n",
    "import numpy as np\n",
    "import pandas as pd\n",
    "import torch\n",
    "\n",
    "tokenizer = DistilBertTokenizer.from_pretrained(\"distilbert-base-uncased\")\n",
    "model = DistilBertModel.from_pretrained(\"distilbert-base-uncased\")\n",
    "\n",
    "model.eval()\n",
    "device = torch.device(\"cuda\" if torch.cuda.is_available() else \"cpu\")\n",
    "print(device)\n",
    "model.to(device)\n",
    "\n",
    "def generate_embeddings(descriptions, batch_size=16):\n",
    "    all_embeddings = []\n",
    "\n",
    "    for i in tqdm(range(0, len(descriptions), batch_size)):\n",
    "        batch = descriptions[i:i+batch_size]\n",
    "\n",
    "        inputs = tokenizer(batch, return_tensors='pt', max_length=512, truncation=True, padding='max_length', add_special_tokens=True)\n",
    "\n",
    "        input_ids = inputs['input_ids'].to(device)\n",
    "        attention_mask = inputs['attention_mask'].to(device)\n",
    "\n",
    "        with torch.no_grad():\n",
    "            outputs = model(input_ids=input_ids, attention_mask=attention_mask)\n",
    "            embeddings = outputs.last_hidden_state[:, 0, :].cpu().numpy()\n",
    "            all_embeddings.extend(embeddings)\n",
    "\n",
    "    return np.array(all_embeddings)\n",
    "\n",
    "# embeddings = generate_embeddings(list(descriptions))\n",
    "\n",
    "# embeddings_df = pd.DataFrame(embeddings, columns=[f\"bert_feature_{i}\" for i in range(embeddings.shape[1])])\n",
    "\n",
    "# embeddings_df"
   ]
  },
  {
   "cell_type": "code",
   "execution_count": 115,
   "metadata": {},
   "outputs": [
    {
     "name": "stderr",
     "output_type": "stream",
     "text": [
      "100%|██████████| 162/162 [02:13<00:00,  1.22it/s]\n",
      "100%|██████████| 41/41 [00:33<00:00,  1.21it/s]\n"
     ]
    }
   ],
   "source": [
    "descriptions_train = descriptions.iloc[X_train.index]\n",
    "descriptions_test = descriptions.iloc[X_test.index]\n",
    "\n",
    "embeddings_train = generate_embeddings(list(descriptions_train))\n",
    "embeddings_test = generate_embeddings(list(descriptions_test))\n",
    "\n",
    "embeddings_train_df = pd.DataFrame(embeddings_train, columns=[f\"bert_feature_{i}\" for i in range(embeddings_train.shape[1])])\n",
    "embeddings_test_df = pd.DataFrame(embeddings_test, columns=[f\"bert_feature_{i}\" for i in range(embeddings_test.shape[1])])"
   ]
  },
  {
   "cell_type": "code",
   "execution_count": 116,
   "metadata": {},
   "outputs": [],
   "source": [
    "embeddings_train_df['gbm_pred'] = Y_train_pred\n",
    "embeddings_test_df['gbm_pred'] = Y_test_pred"
   ]
  },
  {
   "cell_type": "code",
   "execution_count": 117,
   "metadata": {},
   "outputs": [],
   "source": [
    "from sklearn.base import BaseEstimator, RegressorMixin\n",
    "from torch.utils.data import DataLoader, TensorDataset\n",
    "\n",
    "\n",
    "class CustomDNN(nn.Module):\n",
    "    def __init__(self, input_shape, num_neurons=[128, 64, 32], dropout_rate=0.2):\n",
    "        super(CustomDNN, self).__init__()\n",
    "        self.layers = nn.ModuleList()\n",
    "        for output_features in num_neurons:\n",
    "            self.layers.append(nn.Linear(input_shape, output_features))\n",
    "            self.layers.append(nn.ReLU())\n",
    "            self.layers.append(nn.Dropout(dropout_rate))\n",
    "            input_shape = output_features\n",
    "\n",
    "        self.layers.append(nn.Linear(num_neurons[-1], 1))\n",
    "\n",
    "    def forward(self, x):\n",
    "        for layer in self.layers:\n",
    "            x = layer(x)\n",
    "        return x\n",
    "\n",
    "\n",
    "class PyTorchRegressor(BaseEstimator, RegressorMixin):\n",
    "    def __init__(self, model_class, input_shape, num_neurons=[128, 64, 32], dropout_rate=0.2, learning_rate=0.001, epochs=100, batch_size=32):\n",
    "        self.model_class = model_class\n",
    "        self.input_shape = input_shape\n",
    "        self.num_neurons = num_neurons\n",
    "        self.dropout_rate = dropout_rate\n",
    "        self.learning_rate = learning_rate\n",
    "        self.epochs = epochs\n",
    "        self.batch_size = batch_size\n",
    "        self.model = self.model_class(input_shape, num_neurons, dropout_rate).to(device)\n",
    "\n",
    "    def fit(self, X, y):\n",
    "        X_tensor = torch.tensor(X, dtype=torch.float32).to(device)\n",
    "        y_tensor = torch.tensor(y, dtype=torch.float32).view(-1, 1).to(device)\n",
    "        dataset = TensorDataset(X_tensor, y_tensor)\n",
    "        dataloader = DataLoader(dataset, batch_size=self.batch_size, shuffle=True)\n",
    "\n",
    "        optimizer = optim.Adam(self.model.parameters(), lr=self.learning_rate)\n",
    "        criterion = nn.MSELoss()\n",
    "\n",
    "        self.model.train()\n",
    "        pbar = tqdm(total=self.epochs, desc=\"Epochs\", leave=True)\n",
    "        for epoch in range(self.epochs):\n",
    "            epoch_loss = 0.0\n",
    "            for batch_X, batch_y in dataloader:\n",
    "                optimizer.zero_grad()\n",
    "                outputs = self.model(batch_X)\n",
    "                loss = criterion(outputs, batch_y)\n",
    "                loss.backward()\n",
    "                optimizer.step()\n",
    "                epoch_loss += loss.item()\n",
    "            # Update the progress bar\n",
    "            pbar.set_postfix({'loss': f'{epoch_loss/len(dataloader):.4f}'}, refresh=True)\n",
    "            pbar.update(1)\n",
    "        pbar.close()\n",
    "\n",
    "    def predict(self, X):\n",
    "        self.model.eval()\n",
    "        with torch.no_grad():\n",
    "            X_tensor = torch.tensor(X, dtype=torch.float32).to(device)\n",
    "            predictions = self.model(X_tensor).squeeze()\n",
    "        return predictions.cpu().numpy()  # Move predictions back to CPU for compatibility with Scikit-learn\n",
    "\n",
    "    def score(self, X, y):\n",
    "        predictions = self.predict(X)\n",
    "        return -mean_squared_error(y, predictions)\n"
   ]
  },
  {
   "cell_type": "code",
   "execution_count": 119,
   "metadata": {},
   "outputs": [
    {
     "name": "stderr",
     "output_type": "stream",
     "text": [
      "Epochs: 100%|██████████| 100/100 [00:05<00:00, 17.82it/s, loss=6933643372949604.0000]"
     ]
    },
    {
     "name": "stdout",
     "output_type": "stream",
     "text": [
      "Test MSE: 2.2106588126537116e+16\n",
      "Test RMSE: 148682844.08948168\n",
      "Test MAE: 82411275.41021672\n",
      "Test R²: 0.5626373313622378\n"
     ]
    },
    {
     "name": "stderr",
     "output_type": "stream",
     "text": [
      "\n"
     ]
    }
   ],
   "source": [
    "from sklearn.metrics import mean_squared_error, mean_absolute_error, r2_score\n",
    "\n",
    "# Assuming X_test_scaled is your scaled test set features and Y_test is the actual target values\n",
    "# First, you need to predict on your test set\n",
    "\n",
    "model = PyTorchRegressor(CustomDNN, input_shape=embeddings_train_df.to_numpy().shape[1], num_neurons=[256, 128, 64], dropout_rate=0.3, learning_rate=0.01, batch_size=64)\n",
    "model.fit(embeddings_train_df.to_numpy(), Y_train.to_numpy())\n",
    "\n",
    "test_predictions = model.predict(embeddings_test_df.to_numpy())\n",
    "\n",
    "\n",
    "# Calculate the metrics\n",
    "mse_test = mean_squared_error(Y_test, test_predictions)\n",
    "rmse_test = np.sqrt(mse_test)  # RMSE\n",
    "mae_test = mean_absolute_error(Y_test, test_predictions)\n",
    "r2_test = r2_score(Y_test, test_predictions)\n",
    "\n",
    "print(f\"Test MSE: {mse_test}\")\n",
    "print(f\"Test RMSE: {rmse_test}\")\n",
    "print(f\"Test MAE: {mae_test}\")\n",
    "print(f\"Test R²: {r2_test}\")"
   ]
  },
  {
   "cell_type": "code",
   "execution_count": 120,
   "metadata": {},
   "outputs": [
    {
     "data": {
      "image/png": "[encoded data removed]",
      "text/plain": [
       "<Figure size 1000x600 with 1 Axes>"
      ]
     },
     "metadata": {},
     "output_type": "display_data"
    }
   ],
   "source": [
    "import matplotlib.pyplot as plt\n",
    "\n",
    "# Scatter plot of actual vs. predicted values\n",
    "plt.figure(figsize=(10, 6))\n",
    "plt.scatter(Y_test, test_predictions, alpha=0.5)\n",
    "plt.xlabel('Actual Revenue')\n",
    "plt.ylabel('Predicted Revenue')\n",
    "plt.title('Actual vs. Predicted Revenue')\n",
    "plt.grid(True)\n",
    "\n",
    "# Plot the identity line (y=x) to visualize accuracy\n",
    "diagonal = np.linspace(start=min(Y_test), stop=max(Y_test), num=1000)\n",
    "plt.plot(diagonal, diagonal, '-r', label='Perfect Predictions')\n",
    "plt.legend()\n",
    "\n",
    "plt.show()"
   ]
  },
  {
   "cell_type": "code",
   "execution_count": null,
   "metadata": {},
   "outputs": [],
   "source": []
  }
 ],
 "metadata": {
  "kernelspec": {
   "display_name": "env",
   "language": "python",
   "name": "python3"
  },
  "language_info": {
   "codemirror_mode": {
    "name": "ipython",
    "version": 3
   },
   "file_extension": ".py",
   "mimetype": "text/x-python",
   "name": "python",
   "nbconvert_exporter": "python",
   "pygments_lexer": "ipython3",
   "version": "3.9.6"
  }
 },
 "nbformat": 4,
 "nbformat_minor": 2
}
