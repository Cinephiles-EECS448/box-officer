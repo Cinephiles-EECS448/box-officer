{
 "cells": [
  {
   "cell_type": "code",
   "execution_count": 1,
   "metadata": {},
   "outputs": [
    {
     "name": "stderr",
     "output_type": "stream",
     "text": [
      "C:\\Users\\Tom Gjonaj\\AppData\\Local\\Temp\\ipykernel_24172\\1729348323.py:1: DeprecationWarning: \n",
      "Pyarrow will become a required dependency of pandas in the next major release of pandas (pandas 3.0),\n",
      "(to allow more performant data types, such as the Arrow string type, and better interoperability with other libraries)\n",
      "but was not found to be installed on your system.\n",
      "If this would cause problems for you,\n",
      "please provide us feedback at https://github.com/pandas-dev/pandas/issues/54466\n",
      "        \n",
      "  import pandas as pd\n",
      "c:\\Users\\Tom Gjonaj\\Desktop\\Projects\\box-officer\\env\\Lib\\site-packages\\tqdm\\auto.py:21: TqdmWarning: IProgress not found. Please update jupyter and ipywidgets. See https://ipywidgets.readthedocs.io/en/stable/user_install.html\n",
      "  from .autonotebook import tqdm as notebook_tqdm\n"
     ]
    }
   ],
   "source": [
    "import pandas as pd\n",
    "import json\n",
    "import matplotlib.pyplot as plt\n",
    "import numpy as np\n",
    "from transformers import DistilBertTokenizer, DistilBertModel\n",
    "\n",
    "import torch\n",
    "import torch.nn as nn\n",
    "import torch.optim as optim\n",
    "from tqdm import tqdm\n",
    "from sklearn.preprocessing import StandardScaler\n",
    "from torch.utils.data import Dataset, DataLoader\n",
    "from sklearn.base import BaseEstimator, RegressorMixin\n",
    "from torch.utils.data import DataLoader, TensorDataset\n",
    "\n",
    "from sklearn.model_selection import GridSearchCV\n",
    "from sklearn.metrics import mean_squared_error, mean_absolute_error\n",
    "from sklearn.preprocessing import StandardScaler"
   ]
  },
  {
   "cell_type": "code",
   "execution_count": 2,
   "metadata": {},
   "outputs": [],
   "source": [
    "credits = pd.read_csv(\"tmdb_movie_metadata/tmdb_5000_credits.csv\")\n",
    "credits.rename(columns={'movie_id': 'id'}, inplace=True)\n",
    "credits.drop(\"title\", axis=1, inplace=True, )\n",
    "movies = pd.read_csv(\"tmdb_movie_metadata/tmdb_5000_movies.csv\")\n",
    "data = movies.merge(credits, on=\"id\")\n",
    "\n",
    "data = data[data['revenue'] != 0]\n",
    "data = data[data['budget'] != 0]"
   ]
  },
  {
   "cell_type": "code",
   "execution_count": 3,
   "metadata": {},
   "outputs": [],
   "source": [
    "class cast_member:\n",
    "    def __init__(self, name, character, gender):\n",
    "        self.name = name\n",
    "        self.character = character\n",
    "        self.gender = gender\n",
    "\n",
    "class crew_member:\n",
    "    def __init__(self, name, job, department):\n",
    "        self.name = name\n",
    "        self.job = job\n",
    "        self.department = department"
   ]
  },
  {
   "cell_type": "code",
   "execution_count": 4,
   "metadata": {},
   "outputs": [],
   "source": [
    "def convert_dict_to_1d_list(json_str):\n",
    "    json_dict = json.loads(json_str)\n",
    "    return_list = []\n",
    "    for item in json_dict:\n",
    "        return_list.append(item['name'])\n",
    "    return return_list\n",
    "\n",
    "def convert_dict_to_class_list(json_str, class_type, dimension1, dimension2, dimension3='none'):\n",
    "    json_dict = json.loads(json_str)\n",
    "    return_list = []\n",
    "    for item in json_dict:\n",
    "        if class_type == 'cast_members':\n",
    "            gender = item.get(dimension3, None)\n",
    "            tmp_person = cast_member(item[dimension1], item[dimension2], gender)\n",
    "            return_list.append(tmp_person)\n",
    "        elif class_type == 'crew_members':\n",
    "            department = item.get(dimension3, None)\n",
    "            tmp_person = crew_member(item[dimension1], item[dimension2], department)\n",
    "            return_list.append(tmp_person)\n",
    "    return return_list\n",
    "\n",
    "def get_director(crew_list):\n",
    "    for item in crew_list:\n",
    "        if item.job == 'Director':\n",
    "            return item.name\n",
    "    return 'none'\n",
    "\n",
    "def get_crew_member_count_by_job(crew_list, job_type):\n",
    "    crew_member_count = 0\n",
    "    for item in crew_list:\n",
    "        if job_type in item.job:\n",
    "            crew_member_count += 1\n",
    "    return crew_member_count\n",
    "\n",
    "def get_department_size(crew_list, department):\n",
    "    department_size = 0\n",
    "    for item in crew_list:\n",
    "        if department in item.department:\n",
    "            department_size += 1\n",
    "    return department_size\n",
    "\n",
    "def get_cast_number(cast_list, gender):\n",
    "    cast_count = 0\n",
    "    for item in cast_list:\n",
    "        if str(item.gender) == str(gender):\n",
    "            cast_count += 1\n",
    "    return cast_count"
   ]
  },
  {
   "cell_type": "code",
   "execution_count": 5,
   "metadata": {},
   "outputs": [],
   "source": [
    "x = data.copy()\n",
    "\n",
    "x['genres']  =  x['genres'].apply(convert_dict_to_1d_list)\n",
    "x['keywords'] = x['keywords'].apply(convert_dict_to_1d_list)\n",
    "x['production_companies'] = x['production_companies'].apply(convert_dict_to_1d_list)\n",
    "x['production_countries'] = x['production_countries'].apply(convert_dict_to_1d_list)\n",
    "\n",
    "x['country'] = x['production_countries'].apply(lambda x:x[0] if len(x)>0 else None)\n",
    "\n",
    "x['cast'] = x['cast'].apply(convert_dict_to_class_list,\n",
    "                                                              args=('cast_members', 'name', 'character', 'gender'))\n",
    "x['crew'] = x['crew'].apply(convert_dict_to_class_list,\n",
    "                                                              args=('crew_members', 'name', 'job', 'department'))\n",
    "\n",
    "x['director_name'] = x['crew'].apply(get_director)\n",
    "\n",
    "x['dominant_genre'] = x['genres'].apply(lambda x:x[0] if len(x)>0 else 'none')\n",
    "\n",
    "x['title_year'] = pd.to_datetime(x['release_date']).apply(lambda x:0 if pd.isnull(x.year) else int(x.year))\n",
    "\n",
    "x['release_week'] = pd.to_datetime(x['release_date']).apply(lambda x:0 if pd.isnull(x.week) else int(x.week))\n",
    "\n",
    "x['cast_size'] = x['cast'].apply(lambda x:len(x) if len(x)>0 else 0)\n",
    "x['crew_size'] = x['crew'].apply(lambda x:len(x) if len(x)>0 else 0)\n",
    "x['number_production_companies'] = x['production_companies'].apply(lambda x:len(x) if len(x)>0 else 0)\n",
    "\n",
    "x['director_count'] = x['crew'].apply(get_crew_member_count_by_job, args=('Director',))\n",
    "x['writer_count'] = x['crew'].apply(get_crew_member_count_by_job, args=('Screenplay',))\n",
    "x['editor_count'] = x['crew'].apply(get_crew_member_count_by_job, args=('Editor',))\n",
    "\n",
    "x['sound_department_size'] = x['crew'].apply(get_department_size, args=('Sound',))\n",
    "x['costume_department_size'] = x['crew'].apply(get_department_size, args=('Costume & Make-Up',))\n",
    "x['editing_department_size'] = x['crew'].apply(get_department_size, args=('Editing',))\n",
    "x['production_department_size'] = x['crew'].apply(get_department_size, args=('Production',))\n",
    "x['art_department_size'] = x['crew'].apply(get_department_size, args=('Art',))\n",
    "x['camera_department_size'] = x['crew'].apply(get_department_size, args=('Camera',))\n",
    "x['vx_department_size'] = x['crew'].apply(get_department_size, args=('Visual Effects',))\n",
    "\n",
    "x['male_cast_count'] = x['cast'].apply(get_cast_number, args = ('2'))\n",
    "x['female_cast_count'] = x['cast'].apply(get_cast_number, args = ('1'))\n",
    "x['unstated_gender_cast_count'] = x['cast'].apply(get_cast_number, args = ('0'))\n",
    "\n",
    "x['spoken_languages'] = x['spoken_languages'].apply(convert_dict_to_1d_list)\n",
    "\n",
    "# x['genres'] = x['genres'].fillna(None)\n",
    "# x['keywords'] = x['keywords'].fillna(None)\n",
    "# x['overview'] = x['overview'].fillna(None)\n",
    "# x['country'] = x['country'].fillna(None)\n",
    "# x['director_name'] = x['director_name'].fillna(None)\n"
   ]
  },
  {
   "cell_type": "code",
   "execution_count": 6,
   "metadata": {},
   "outputs": [],
   "source": [
    "def one_hot_encoder(df, column_to_encode, control_df, control_subset_size, control_column, output_prefix):\n",
    "    control_list = set(control_df.nlargest(control_subset_size, control_column)[control_column])\n",
    "\n",
    "    def encode_item(item):\n",
    "        if isinstance(item, list):\n",
    "            encoded = {output_prefix + elem.replace(\" \", \"\"): 1 for elem in item if elem in control_list}\n",
    "        else:\n",
    "            encoded = {output_prefix + item.replace(\" \", \"\"): 1 if item in control_list else 0}\n",
    "        return encoded\n",
    "\n",
    "    encoded_data = df[column_to_encode].apply(lambda x: encode_item(x) if pd.notna(x) else {})\n",
    "\n",
    "    encoded_df = pd.DataFrame(list(encoded_data)).fillna(0).astype(int)\n",
    "\n",
    "    df = df.drop(column_to_encode, axis=1).reset_index(drop=True)\n",
    "    df = pd.concat([df, encoded_df], axis=1)\n",
    "\n",
    "    return df\n"
   ]
  },
  {
   "cell_type": "code",
   "execution_count": 7,
   "metadata": {},
   "outputs": [],
   "source": [
    "from collections import defaultdict\n",
    "def calculate_average_revenue(df, column):\n",
    "    revenue_sum = defaultdict(float)\n",
    "    count = defaultdict(int)\n",
    "\n",
    "    for index, row in df.iterrows():\n",
    "        entities = [row[column]] if isinstance(row[column], str) else row[column]\n",
    "        if entities is None:\n",
    "            continue\n",
    "        for entity in entities:\n",
    "            revenue_sum[entity] += row['revenue']\n",
    "            count[entity] += 1\n",
    "\n",
    "    # Calculate average revenue\n",
    "    average_revenue = {entity: revenue_sum[entity] / count[entity] for entity in revenue_sum}\n",
    "\n",
    "    return average_revenue\n",
    "\n",
    "def one_hot_encode_top_x_by_revenue(df, columns, top_x):\n",
    "    one_hot_encoded_dfs = []  # To hold one-hot encoded DataFrames for each column before concatenating\n",
    "    for column in columns:\n",
    "        average_revenue = calculate_average_revenue(df, column)\n",
    "\n",
    "        # Sort entities based on average revenue and select top X\n",
    "        top_entities = sorted(average_revenue, key=average_revenue.get, reverse=True)[:top_x]\n",
    "\n",
    "        # Prepare a dict to hold the encoded data\n",
    "        encoded_data = {f'{column}_is_{entity}': [] for entity in top_entities}\n",
    "\n",
    "        # Fill in the encoded data\n",
    "        for index, row in df.iterrows():\n",
    "            entities = [row[column]] if isinstance(row[column], str) else row[column]\n",
    "            if entities is None:\n",
    "                for entity in top_entities:\n",
    "                    encoded_data[f'{column}_is_{entity}'].append(0)\n",
    "                continue\n",
    "            for entity in top_entities:\n",
    "                encoded_data[f'{column}_is_{entity}'].append(1 if entity in entities else 0)\n",
    "\n",
    "        # Convert the encoded data to a DataFrame\n",
    "        encoded_df = pd.DataFrame(encoded_data, index=df.index)\n",
    "        one_hot_encoded_dfs.append(encoded_df)\n",
    "\n",
    "    # Concatenate all one-hot encoded DataFrames with the original DataFrame\n",
    "    df = pd.concat([df] + one_hot_encoded_dfs, axis=1)\n",
    "\n",
    "    return df"
   ]
  },
  {
   "cell_type": "code",
   "execution_count": 8,
   "metadata": {},
   "outputs": [],
   "source": [
    "columns_to_encode = ['director_name', 'production_companies', 'genres', 'spoken_languages', 'country', ]\n",
    "x_onehot = one_hot_encode_top_x_by_revenue(x, columns_to_encode, top_x=10000)"
   ]
  },
  {
   "cell_type": "code",
   "execution_count": 9,
   "metadata": {},
   "outputs": [],
   "source": [
    "columns_to_drop = ['genres', 'homepage', 'id', 'keywords', 'original_language',\n",
    "                   'original_title', 'production_companies',\n",
    "                   'production_countries', 'release_date', 'spoken_languages',\n",
    "                   'status', 'title', 'director_name', 'country',\n",
    "                   'cast', 'crew', 'id', 'dominant_genre', 'vote_count', 'popularity', 'vote_average']\n",
    "\n",
    "x_cleaned = x_onehot.drop(columns=columns_to_drop)\n",
    "x_cleaned = x_cleaned.fillna(0)\n",
    "x_cleaned = x_cleaned.reset_index()"
   ]
  },
  {
   "cell_type": "code",
   "execution_count": 10,
   "metadata": {},
   "outputs": [],
   "source": [
    "taglines = x_cleaned[\"tagline\"].replace(0, \"\")\n",
    "overview = x_cleaned[\"overview\"].replace(0, \"\")\n",
    "\n",
    "descriptions = taglines + \" \" + overview\n",
    "descriptions = descriptions.map(lambda x: x.strip() if isinstance(x, str) else x)"
   ]
  },
  {
   "cell_type": "code",
   "execution_count": 11,
   "metadata": {},
   "outputs": [],
   "source": [
    "Y = x_cleaned['revenue']\n",
    "X = x_cleaned.drop(columns=['revenue', 'overview', 'tagline'], axis=1)\n",
    "\n",
    "# DROP input_ids and attention_mask\n",
    "\n",
    "from sklearn.model_selection import train_test_split\n",
    "\n",
    "X_train, X_test, Y_train, Y_test = train_test_split(X, Y, test_size=0.2, random_state=42)"
   ]
  },
  {
   "cell_type": "code",
   "execution_count": null,
   "metadata": {},
   "outputs": [],
   "source": [
    "from sklearn.ensemble import GradientBoostingRegressor\n",
    "from sklearn.tree import DecisionTreeRegressor\n",
    "from sklearn.model_selection import GridSearchCV\n",
    "from sklearn.metrics import mean_squared_error, r2_score\n",
    "\n",
    "\n",
    "gbm = GradientBoostingRegressor(random_state=42)\n",
    "\n",
    "param_grid = {\n",
    "    'n_estimators': [50, 100, 200, 500],\n",
    "    'learning_rate': [0.001, 0.01, 0.1, 1],\n",
    "    'loss': ['squared_error', \"absolute_error\"],\n",
    "    'max_depth': [1, 2, 3, 4, 5]\n",
    "}\n",
    "\n",
    "grid_search = GridSearchCV(gbm, param_grid, cv=5, scoring='neg_mean_squared_error', n_jobs=-1)\n",
    "\n",
    "grid_search.fit(X_train, Y_train)\n",
    "\n",
    "print(\"Best Parameters:\", grid_search.best_params_)\n",
    "print(\"Best Score (MSE):\", -grid_search.best_score_)\n",
    "\n",
    "best_reg = grid_search.best_estimator_\n",
    "Y_test_pred = best_reg.predict(X_test)\n",
    "\n",
    "mse = mean_squared_error(Y_test, Y_test_pred)\n",
    "r2 = r2_score(Y_test, Y_test_pred)\n",
    "\n",
    "print(\"Test Set Mean Squared Error:\", mse)\n",
    "print(\"Test Set R^2 Score:\", r2)"
   ]
  },
  {
   "cell_type": "code",
   "execution_count": 12,
   "metadata": {},
   "outputs": [
    {
     "name": "stdout",
     "output_type": "stream",
     "text": [
      "Training Set Performance:\n",
      "Mean Squared Error: 4057086465845821.0\n",
      "R^2 Score: 0.8677959372812905\n",
      "\n",
      "Test Set Performance:\n",
      "Mean Squared Error: 2.273083583860078e+16\n",
      "R^2 Score: 0.5502870471991452\n"
     ]
    }
   ],
   "source": [
    "from sklearn.ensemble import GradientBoostingRegressor\n",
    "from sklearn.metrics import mean_squared_error, r2_score\n",
    "import numpy as np\n",
    "\n",
    "gbr = GradientBoostingRegressor(n_estimators=500, learning_rate=0.01, max_depth=5, loss=\"squared_error\", random_state=42)\n",
    "\n",
    "gbr.fit(X_train, Y_train)\n",
    "\n",
    "Y_train_pred = gbr.predict(X_train)\n",
    "Y_test_pred = gbr.predict(X_test)\n",
    "\n",
    "print(\"Training Set Performance:\")\n",
    "print(\"Mean Squared Error:\", mean_squared_error(Y_train, Y_train_pred))\n",
    "print(\"R^2 Score:\", r2_score(Y_train, Y_train_pred))\n",
    "\n",
    "print(\"\\nTest Set Performance:\")\n",
    "print(\"Mean Squared Error:\", mean_squared_error(Y_test, Y_test_pred))\n",
    "print(\"R^2 Score:\", r2_score(Y_test, Y_test_pred))"
   ]
  },
  {
   "cell_type": "code",
   "execution_count": 14,
   "metadata": {},
   "outputs": [],
   "source": [
    "class MovieDescriptions(Dataset):\n",
    "    def __init__(self, descriptions, revenue, tokenizer, max_len=512):\n",
    "        self.tokenizer = tokenizer\n",
    "        self.text = descriptions  # Assuming 'text' is the column with movie descriptions\n",
    "        self.max_len = max_len\n",
    "        self.targets = revenue  # Assuming 'labels' is the column with revenue or any label for fine-tuning\n",
    "        \n",
    "    def __len__(self):\n",
    "        return len(self.text)\n",
    "    \n",
    "    def __getitem__(self, index):\n",
    "        text = str(self.text[index])\n",
    "        text = \" \".join(text.split())\n",
    "\n",
    "        inputs = self.tokenizer.encode_plus(\n",
    "            text,\n",
    "            None,\n",
    "            add_special_tokens=True,\n",
    "            max_length=self.max_len,\n",
    "            padding=\"max_length\",\n",
    "            return_token_type_ids=False,\n",
    "            truncation=True,\n",
    "            return_attention_mask=True\n",
    "        )\n",
    "\n",
    "        item = {\n",
    "            'ids': torch.tensor(inputs['input_ids'], dtype=torch.long),\n",
    "            'mask': torch.tensor(inputs['attention_mask'], dtype=torch.long)\n",
    "        }\n",
    "\n",
    "        item['targets'] = torch.tensor(self.targets[index], dtype=torch.float)\n",
    "\n",
    "        return item"
   ]
  },
  {
   "cell_type": "code",
   "execution_count": 15,
   "metadata": {},
   "outputs": [],
   "source": [
    "class DistilBERTClass(torch.nn.Module):\n",
    "    def __init__(self):\n",
    "        super(DistilBERTClass, self).__init__()\n",
    "        self.distilbert = DistilBertModel.from_pretrained('distilbert-base-uncased')\n",
    "        self.pre_classifier = torch.nn.Linear(768, 768)\n",
    "        self.activation = torch.nn.ReLU()\n",
    "        self.dropout = torch.nn.Dropout(0.1)\n",
    "        self.classifier = torch.nn.Linear(768, 1)\n",
    "\n",
    "    def forward(self, input_ids, attention_mask, return_embedding=False):\n",
    "        distilbert_output = self.distilbert(input_ids=input_ids, attention_mask=attention_mask)\n",
    "        hidden_state = distilbert_output[0]  # Assuming you want the last hidden state\n",
    "        if return_embedding:\n",
    "            # Return raw embeddings - [CLS] token embedding\n",
    "            return hidden_state[:, 0]\n",
    "        pooled_output = hidden_state[:, 0]\n",
    "        pooled_output = self.pre_classifier(pooled_output)\n",
    "        pooled_output = self.activation(pooled_output)\n",
    "        pooled_output = self.dropout(pooled_output)\n",
    "        return self.classifier(pooled_output)\n"
   ]
  },
  {
   "cell_type": "code",
   "execution_count": 16,
   "metadata": {},
   "outputs": [],
   "source": [
    "import torch\n",
    "from torch.utils.data import DataLoader\n",
    "from transformers import DistilBertModel, DistilBertTokenizer, AdamW\n",
    "from tqdm.auto import tqdm\n",
    "import numpy as np\n",
    "\n",
    "class BERTFineTunerAndEmbeddingExtractor:\n",
    "    def __init__(self, model, device='cuda', batch_size=16, learning_rate=5e-5, epochs=3):\n",
    "        self.tokenizer = DistilBertTokenizer.from_pretrained(\"distilbert-base-uncased\")\n",
    "        self.model = model\n",
    "        self.device = torch.device(device if torch.cuda.is_available() else 'cpu')\n",
    "        self.model.to(self.device)\n",
    "        self.batch_size = batch_size\n",
    "        self.learning_rate = learning_rate\n",
    "        self.epochs = epochs\n",
    "        self.loss = nn.L1Loss()\n",
    "\n",
    "    def fine_tune(self, dataset):\n",
    "        self.model.train()\n",
    "        dataloader = DataLoader(dataset, batch_size=self.batch_size, shuffle=True)\n",
    "        optimizer = optim.AdamW(self.model.parameters(), lr=self.learning_rate)\n",
    "\n",
    "        for epoch in range(self.epochs):\n",
    "            total_loss = 0\n",
    "            for batch in tqdm(dataloader, desc=f\"Epoch {epoch + 1}/{self.epochs}\"):\n",
    "                optimizer.zero_grad()\n",
    "                input_ids = batch['ids'].to(self.device)  # Changed from 'input_ids' to 'ids'\n",
    "                attention_mask = batch['mask'].to(self.device)  # Changed from 'attention_mask' to 'mask'\n",
    "                targets = batch['targets'].to(self.device)  # Ensure targets are included correctly\n",
    "                outputs = self.model(input_ids=input_ids, attention_mask=attention_mask)\n",
    "                loss = self.loss(outputs, targets.view(-1, 1))  # Use an appropriate loss function\n",
    "                loss.backward()\n",
    "                optimizer.step()\n",
    "                total_loss += loss.item()\n",
    "            print(f\"Average loss: {total_loss / len(dataloader)}\")\n",
    "\n",
    "    def extract_embeddings(self, descriptions):\n",
    "        self.model.eval()\n",
    "        all_embeddings = []\n",
    "        for i in tqdm(range(0, len(descriptions), self.batch_size)):\n",
    "            batch = descriptions[i:i+self.batch_size]\n",
    "\n",
    "            inputs = self.tokenizer(batch, return_tensors='pt', max_length=512, truncation=True, padding='max_length', add_special_tokens=True)\n",
    "\n",
    "            input_ids = inputs['input_ids'].to(self.device)\n",
    "            attention_mask = inputs['attention_mask'].to(self.device)\n",
    "\n",
    "            with torch.no_grad():\n",
    "                outputs = self.model(input_ids=input_ids, attention_mask=attention_mask, return_embedding=True)\n",
    "                embeddings = outputs.cpu().numpy()\n",
    "                all_embeddings.extend(embeddings)\n",
    "\n",
    "        return np.array(all_embeddings)\n"
   ]
  },
  {
   "cell_type": "code",
   "execution_count": 51,
   "metadata": {},
   "outputs": [
    {
     "name": "stdout",
     "output_type": "stream",
     "text": [
      "cuda\n"
     ]
    }
   ],
   "source": [
    "from transformers import DistilBertTokenizer, DistilBertModel\n",
    "import numpy as np\n",
    "import pandas as pd\n",
    "import torch\n",
    "\n",
    "tokenizer = DistilBertTokenizer.from_pretrained(\"distilbert-base-uncased\")\n",
    "model = DistilBertModel.from_pretrained(\"distilbert-base-uncased\")\n",
    "\n",
    "model.eval()\n",
    "device = torch.device(\"cuda\" if torch.cuda.is_available() else \"cpu\")\n",
    "print(device)\n",
    "model.to(device)\n",
    "\n",
    "def generate_embeddings(descriptions, batch_size=16):\n",
    "    all_embeddings = []\n",
    "\n",
    "    for i in tqdm(range(0, len(descriptions), batch_size)):\n",
    "        batch = descriptions[i:i+batch_size]\n",
    "\n",
    "        inputs = tokenizer(batch, return_tensors='pt', max_length=512, truncation=True, padding='max_length', add_special_tokens=True)\n",
    "\n",
    "        input_ids = inputs['input_ids'].to(device)\n",
    "        attention_mask = inputs['attention_mask'].to(device)\n",
    "\n",
    "        with torch.no_grad():\n",
    "            outputs = model(input_ids=input_ids, attention_mask=attention_mask)\n",
    "            embeddings = outputs.last_hidden_state[:, 0, :].cpu().numpy()\n",
    "            all_embeddings.extend(embeddings)\n",
    "\n",
    "    return np.array(all_embeddings)\n",
    "\n",
    "# embeddings = generate_embeddings(list(descriptions))\n",
    "\n",
    "# embeddings_df = pd.DataFrame(embeddings, columns=[f\"bert_feature_{i}\" for i in range(embeddings.shape[1])])\n",
    "\n",
    "# embeddings_df"
   ]
  },
  {
   "cell_type": "code",
   "execution_count": 17,
   "metadata": {},
   "outputs": [
    {
     "name": "stdout",
     "output_type": "stream",
     "text": [
      "cuda\n"
     ]
    },
    {
     "name": "stderr",
     "output_type": "stream",
     "text": [
      "Epoch 1/3: 100%|██████████| 162/162 [00:18<00:00,  8.93it/s]\n"
     ]
    },
    {
     "name": "stdout",
     "output_type": "stream",
     "text": [
      "Average loss: 117902837.80246913\n"
     ]
    },
    {
     "name": "stderr",
     "output_type": "stream",
     "text": [
      "Epoch 2/3: 100%|██████████| 162/162 [00:17<00:00,  9.05it/s]\n"
     ]
    },
    {
     "name": "stdout",
     "output_type": "stream",
     "text": [
      "Average loss: 117993967.80246913\n"
     ]
    },
    {
     "name": "stderr",
     "output_type": "stream",
     "text": [
      "Epoch 3/3: 100%|██████████| 162/162 [00:17<00:00,  9.05it/s]\n"
     ]
    },
    {
     "name": "stdout",
     "output_type": "stream",
     "text": [
      "Average loss: 118266398.61728396\n"
     ]
    },
    {
     "name": "stderr",
     "output_type": "stream",
     "text": [
      "100%|██████████| 162/162 [00:06<00:00, 23.31it/s]\n",
      "100%|██████████| 41/41 [00:01<00:00, 23.63it/s]\n"
     ]
    }
   ],
   "source": [
    "descriptions_train = descriptions.iloc[X_train.index].reset_index(drop=True)\n",
    "descriptions_test = descriptions.iloc[X_test.index].reset_index(drop=True)\n",
    "device = torch.device(\"cuda\" if torch.cuda.is_available() else \"cpu\")\n",
    "print(device)\n",
    "\n",
    "\n",
    "tokenizer = DistilBertTokenizer.from_pretrained('distilbert-base-uncased')\n",
    "model = DistilBERTClass().to(device)\n",
    "# encodings_train = tokenizer(descriptions_train.tolist(), truncation=True, padding=True, max_length=512)\n",
    "# encodings_test = tokenizer(descriptions_test.tolist(), truncation=True, padding=True, max_length=512)\n",
    "\n",
    "train_dataset = MovieDescriptions(descriptions_train, Y_train.to_numpy(), tokenizer=tokenizer, max_len=512)\n",
    "test_dataset = MovieDescriptions(descriptions_test, Y_test.to_numpy(), tokenizer=tokenizer, max_len=512)\n",
    "\n",
    "tuner = BERTFineTunerAndEmbeddingExtractor(model)\n",
    "tuner.fine_tune(train_dataset)\n",
    "\n",
    "\n",
    "embeddings_train = tuner.extract_embeddings(descriptions_train.tolist())\n",
    "embeddings_test = tuner.extract_embeddings(descriptions_test.tolist())\n",
    "\n",
    "embeddings_train_df = pd.DataFrame(embeddings_train, columns=[f\"bert_feature_{i}\" for i in range(embeddings_train.shape[1])])\n",
    "embeddings_test_df = pd.DataFrame(embeddings_test, columns=[f\"bert_feature_{i}\" for i in range(embeddings_test.shape[1])])"
   ]
  },
  {
   "cell_type": "code",
   "execution_count": 18,
   "metadata": {},
   "outputs": [],
   "source": [
    "embeddings_train_df['gbm_pred'] = Y_train_pred\n",
    "embeddings_test_df['gbm_pred'] = Y_test_pred"
   ]
  },
  {
   "cell_type": "code",
   "execution_count": 19,
   "metadata": {},
   "outputs": [],
   "source": [
    "from sklearn.base import BaseEstimator, RegressorMixin\n",
    "from torch.utils.data import DataLoader, TensorDataset\n",
    "\n",
    "\n",
    "class CustomDNN(nn.Module):\n",
    "    def __init__(self, input_shape, num_neurons=[128, 64, 32], dropout_rate=0.2):\n",
    "        super(CustomDNN, self).__init__()\n",
    "        self.layers = nn.ModuleList()\n",
    "        for output_features in num_neurons:\n",
    "            self.layers.append(nn.Linear(input_shape, output_features))\n",
    "            self.layers.append(nn.ReLU())\n",
    "            self.layers.append(nn.Dropout(dropout_rate))\n",
    "            input_shape = output_features\n",
    "\n",
    "        self.layers.append(nn.Linear(num_neurons[-1], 1))\n",
    "\n",
    "    def forward(self, x):\n",
    "        for layer in self.layers:\n",
    "            x = layer(x)\n",
    "        return x\n",
    "\n",
    "\n",
    "class PyTorchRegressor(BaseEstimator, RegressorMixin):\n",
    "    def __init__(self, model_class, input_shape, num_neurons=[128, 64, 32], dropout_rate=0.2, learning_rate=0.001, epochs=100, batch_size=32):\n",
    "        self.model_class = model_class\n",
    "        self.input_shape = input_shape\n",
    "        self.num_neurons = num_neurons\n",
    "        self.dropout_rate = dropout_rate\n",
    "        self.learning_rate = learning_rate\n",
    "        self.epochs = epochs\n",
    "        self.batch_size = batch_size\n",
    "        self.model = self.model_class(input_shape, num_neurons, dropout_rate).to(device)\n",
    "\n",
    "    def fit(self, X, y):\n",
    "        X_tensor = torch.tensor(X, dtype=torch.float32).to(device)\n",
    "        y_tensor = torch.tensor(y, dtype=torch.float32).view(-1, 1).to(device)\n",
    "        dataset = TensorDataset(X_tensor, y_tensor)\n",
    "        dataloader = DataLoader(dataset, batch_size=self.batch_size, shuffle=True)\n",
    "\n",
    "        optimizer = optim.Adam(self.model.parameters(), lr=self.learning_rate)\n",
    "        criterion = nn.MSELoss()\n",
    "\n",
    "        self.model.train()\n",
    "        pbar = tqdm(total=self.epochs, desc=\"Epochs\", leave=True)\n",
    "        for epoch in range(self.epochs):\n",
    "            epoch_loss = 0.0\n",
    "            for batch_X, batch_y in dataloader:\n",
    "                optimizer.zero_grad()\n",
    "                outputs = self.model(batch_X)\n",
    "                loss = criterion(outputs, batch_y)\n",
    "                loss.backward()\n",
    "                optimizer.step()\n",
    "                epoch_loss += loss.item()\n",
    "            # Update the progress bar\n",
    "            pbar.set_postfix({'loss': f'{epoch_loss/len(dataloader):.4f}'}, refresh=True)\n",
    "            pbar.update(1)\n",
    "        pbar.close()\n",
    "\n",
    "    def predict(self, X):\n",
    "        self.model.eval()\n",
    "        with torch.no_grad():\n",
    "            X_tensor = torch.tensor(X, dtype=torch.float32).to(device)\n",
    "            predictions = self.model(X_tensor).squeeze()\n",
    "        return predictions.cpu().numpy()  # Move predictions back to CPU for compatibility with Scikit-learn\n",
    "\n",
    "    def score(self, X, y):\n",
    "        predictions = self.predict(X)\n",
    "        return -mean_absolute_error(y, predictions)\n"
   ]
  },
  {
   "cell_type": "code",
   "execution_count": 93,
   "metadata": {},
   "outputs": [
    {
     "name": "stderr",
     "output_type": "stream",
     "text": [
      "Epochs: 100%|██████████| 100/100 [00:03<00:00, 28.12it/s, loss=5276015016513081.0000]\n",
      "Epochs: 100%|██████████| 100/100 [00:03<00:00, 30.60it/s, loss=6151329331553773.0000]\n",
      "Epochs: 100%|██████████| 100/100 [00:03<00:00, 30.11it/s, loss=6678249818418441.0000]\n",
      "Epochs:  76%|███████▌  | 76/100 [00:02<00:00, 29.55it/s, loss=5802592741126599.0000]"
     ]
    },
    {
     "ename": "KeyboardInterrupt",
     "evalue": "",
     "output_type": "error",
     "traceback": [
      "\u001b[1;31m---------------------------------------------------------------------------\u001b[0m",
      "\u001b[1;31mKeyboardInterrupt\u001b[0m                         Traceback (most recent call last)",
      "Cell \u001b[1;32mIn[93], line 12\u001b[0m\n\u001b[0;32m      9\u001b[0m model \u001b[38;5;241m=\u001b[39m PyTorchRegressor(CustomDNN, input_shape\u001b[38;5;241m=\u001b[39membeddings_train_df\u001b[38;5;241m.\u001b[39mto_numpy()\u001b[38;5;241m.\u001b[39mshape[\u001b[38;5;241m1\u001b[39m])\n\u001b[0;32m     11\u001b[0m grid \u001b[38;5;241m=\u001b[39m GridSearchCV(estimator\u001b[38;5;241m=\u001b[39mmodel, param_grid\u001b[38;5;241m=\u001b[39mparam_grid, cv\u001b[38;5;241m=\u001b[39m\u001b[38;5;241m3\u001b[39m, scoring\u001b[38;5;241m=\u001b[39m\u001b[38;5;124m'\u001b[39m\u001b[38;5;124mneg_mean_absolute_error\u001b[39m\u001b[38;5;124m'\u001b[39m)\n\u001b[1;32m---> 12\u001b[0m grid_result \u001b[38;5;241m=\u001b[39m \u001b[43mgrid\u001b[49m\u001b[38;5;241;43m.\u001b[39;49m\u001b[43mfit\u001b[49m\u001b[43m(\u001b[49m\u001b[43membeddings_train_df\u001b[49m\u001b[38;5;241;43m.\u001b[39;49m\u001b[43mto_numpy\u001b[49m\u001b[43m(\u001b[49m\u001b[43m)\u001b[49m\u001b[43m,\u001b[49m\u001b[43m \u001b[49m\u001b[43mY_train\u001b[49m\u001b[38;5;241;43m.\u001b[39;49m\u001b[43mto_numpy\u001b[49m\u001b[43m(\u001b[49m\u001b[43m)\u001b[49m\u001b[43m)\u001b[49m\n\u001b[0;32m     14\u001b[0m \u001b[38;5;28mprint\u001b[39m(\u001b[38;5;124m\"\u001b[39m\u001b[38;5;124mBest: \u001b[39m\u001b[38;5;132;01m%f\u001b[39;00m\u001b[38;5;124m using \u001b[39m\u001b[38;5;132;01m%s\u001b[39;00m\u001b[38;5;124m\"\u001b[39m \u001b[38;5;241m%\u001b[39m (grid_result\u001b[38;5;241m.\u001b[39mbest_score_, grid_result\u001b[38;5;241m.\u001b[39mbest_params_))\n",
      "File \u001b[1;32mc:\\Users\\Tom Gjonaj\\Desktop\\Projects\\box-officer\\env\\Lib\\site-packages\\sklearn\\base.py:1474\u001b[0m, in \u001b[0;36m_fit_context.<locals>.decorator.<locals>.wrapper\u001b[1;34m(estimator, *args, **kwargs)\u001b[0m\n\u001b[0;32m   1467\u001b[0m     estimator\u001b[38;5;241m.\u001b[39m_validate_params()\n\u001b[0;32m   1469\u001b[0m \u001b[38;5;28;01mwith\u001b[39;00m config_context(\n\u001b[0;32m   1470\u001b[0m     skip_parameter_validation\u001b[38;5;241m=\u001b[39m(\n\u001b[0;32m   1471\u001b[0m         prefer_skip_nested_validation \u001b[38;5;129;01mor\u001b[39;00m global_skip_validation\n\u001b[0;32m   1472\u001b[0m     )\n\u001b[0;32m   1473\u001b[0m ):\n\u001b[1;32m-> 1474\u001b[0m     \u001b[38;5;28;01mreturn\u001b[39;00m \u001b[43mfit_method\u001b[49m\u001b[43m(\u001b[49m\u001b[43mestimator\u001b[49m\u001b[43m,\u001b[49m\u001b[43m \u001b[49m\u001b[38;5;241;43m*\u001b[39;49m\u001b[43margs\u001b[49m\u001b[43m,\u001b[49m\u001b[43m \u001b[49m\u001b[38;5;241;43m*\u001b[39;49m\u001b[38;5;241;43m*\u001b[39;49m\u001b[43mkwargs\u001b[49m\u001b[43m)\u001b[49m\n",
      "File \u001b[1;32mc:\\Users\\Tom Gjonaj\\Desktop\\Projects\\box-officer\\env\\Lib\\site-packages\\sklearn\\model_selection\\_search.py:970\u001b[0m, in \u001b[0;36mBaseSearchCV.fit\u001b[1;34m(self, X, y, **params)\u001b[0m\n\u001b[0;32m    964\u001b[0m     results \u001b[38;5;241m=\u001b[39m \u001b[38;5;28mself\u001b[39m\u001b[38;5;241m.\u001b[39m_format_results(\n\u001b[0;32m    965\u001b[0m         all_candidate_params, n_splits, all_out, all_more_results\n\u001b[0;32m    966\u001b[0m     )\n\u001b[0;32m    968\u001b[0m     \u001b[38;5;28;01mreturn\u001b[39;00m results\n\u001b[1;32m--> 970\u001b[0m \u001b[38;5;28;43mself\u001b[39;49m\u001b[38;5;241;43m.\u001b[39;49m\u001b[43m_run_search\u001b[49m\u001b[43m(\u001b[49m\u001b[43mevaluate_candidates\u001b[49m\u001b[43m)\u001b[49m\n\u001b[0;32m    972\u001b[0m \u001b[38;5;66;03m# multimetric is determined here because in the case of a callable\u001b[39;00m\n\u001b[0;32m    973\u001b[0m \u001b[38;5;66;03m# self.scoring the return type is only known after calling\u001b[39;00m\n\u001b[0;32m    974\u001b[0m first_test_score \u001b[38;5;241m=\u001b[39m all_out[\u001b[38;5;241m0\u001b[39m][\u001b[38;5;124m\"\u001b[39m\u001b[38;5;124mtest_scores\u001b[39m\u001b[38;5;124m\"\u001b[39m]\n",
      "File \u001b[1;32mc:\\Users\\Tom Gjonaj\\Desktop\\Projects\\box-officer\\env\\Lib\\site-packages\\sklearn\\model_selection\\_search.py:1527\u001b[0m, in \u001b[0;36mGridSearchCV._run_search\u001b[1;34m(self, evaluate_candidates)\u001b[0m\n\u001b[0;32m   1525\u001b[0m \u001b[38;5;28;01mdef\u001b[39;00m \u001b[38;5;21m_run_search\u001b[39m(\u001b[38;5;28mself\u001b[39m, evaluate_candidates):\n\u001b[0;32m   1526\u001b[0m \u001b[38;5;250m    \u001b[39m\u001b[38;5;124;03m\"\"\"Search all candidates in param_grid\"\"\"\u001b[39;00m\n\u001b[1;32m-> 1527\u001b[0m     \u001b[43mevaluate_candidates\u001b[49m\u001b[43m(\u001b[49m\u001b[43mParameterGrid\u001b[49m\u001b[43m(\u001b[49m\u001b[38;5;28;43mself\u001b[39;49m\u001b[38;5;241;43m.\u001b[39;49m\u001b[43mparam_grid\u001b[49m\u001b[43m)\u001b[49m\u001b[43m)\u001b[49m\n",
      "File \u001b[1;32mc:\\Users\\Tom Gjonaj\\Desktop\\Projects\\box-officer\\env\\Lib\\site-packages\\sklearn\\model_selection\\_search.py:916\u001b[0m, in \u001b[0;36mBaseSearchCV.fit.<locals>.evaluate_candidates\u001b[1;34m(candidate_params, cv, more_results)\u001b[0m\n\u001b[0;32m    908\u001b[0m \u001b[38;5;28;01mif\u001b[39;00m \u001b[38;5;28mself\u001b[39m\u001b[38;5;241m.\u001b[39mverbose \u001b[38;5;241m>\u001b[39m \u001b[38;5;241m0\u001b[39m:\n\u001b[0;32m    909\u001b[0m     \u001b[38;5;28mprint\u001b[39m(\n\u001b[0;32m    910\u001b[0m         \u001b[38;5;124m\"\u001b[39m\u001b[38;5;124mFitting \u001b[39m\u001b[38;5;132;01m{0}\u001b[39;00m\u001b[38;5;124m folds for each of \u001b[39m\u001b[38;5;132;01m{1}\u001b[39;00m\u001b[38;5;124m candidates,\u001b[39m\u001b[38;5;124m\"\u001b[39m\n\u001b[0;32m    911\u001b[0m         \u001b[38;5;124m\"\u001b[39m\u001b[38;5;124m totalling \u001b[39m\u001b[38;5;132;01m{2}\u001b[39;00m\u001b[38;5;124m fits\u001b[39m\u001b[38;5;124m\"\u001b[39m\u001b[38;5;241m.\u001b[39mformat(\n\u001b[0;32m    912\u001b[0m             n_splits, n_candidates, n_candidates \u001b[38;5;241m*\u001b[39m n_splits\n\u001b[0;32m    913\u001b[0m         )\n\u001b[0;32m    914\u001b[0m     )\n\u001b[1;32m--> 916\u001b[0m out \u001b[38;5;241m=\u001b[39m \u001b[43mparallel\u001b[49m\u001b[43m(\u001b[49m\n\u001b[0;32m    917\u001b[0m \u001b[43m    \u001b[49m\u001b[43mdelayed\u001b[49m\u001b[43m(\u001b[49m\u001b[43m_fit_and_score\u001b[49m\u001b[43m)\u001b[49m\u001b[43m(\u001b[49m\n\u001b[0;32m    918\u001b[0m \u001b[43m        \u001b[49m\u001b[43mclone\u001b[49m\u001b[43m(\u001b[49m\u001b[43mbase_estimator\u001b[49m\u001b[43m)\u001b[49m\u001b[43m,\u001b[49m\n\u001b[0;32m    919\u001b[0m \u001b[43m        \u001b[49m\u001b[43mX\u001b[49m\u001b[43m,\u001b[49m\n\u001b[0;32m    920\u001b[0m \u001b[43m        \u001b[49m\u001b[43my\u001b[49m\u001b[43m,\u001b[49m\n\u001b[0;32m    921\u001b[0m \u001b[43m        \u001b[49m\u001b[43mtrain\u001b[49m\u001b[38;5;241;43m=\u001b[39;49m\u001b[43mtrain\u001b[49m\u001b[43m,\u001b[49m\n\u001b[0;32m    922\u001b[0m \u001b[43m        \u001b[49m\u001b[43mtest\u001b[49m\u001b[38;5;241;43m=\u001b[39;49m\u001b[43mtest\u001b[49m\u001b[43m,\u001b[49m\n\u001b[0;32m    923\u001b[0m \u001b[43m        \u001b[49m\u001b[43mparameters\u001b[49m\u001b[38;5;241;43m=\u001b[39;49m\u001b[43mparameters\u001b[49m\u001b[43m,\u001b[49m\n\u001b[0;32m    924\u001b[0m \u001b[43m        \u001b[49m\u001b[43msplit_progress\u001b[49m\u001b[38;5;241;43m=\u001b[39;49m\u001b[43m(\u001b[49m\u001b[43msplit_idx\u001b[49m\u001b[43m,\u001b[49m\u001b[43m \u001b[49m\u001b[43mn_splits\u001b[49m\u001b[43m)\u001b[49m\u001b[43m,\u001b[49m\n\u001b[0;32m    925\u001b[0m \u001b[43m        \u001b[49m\u001b[43mcandidate_progress\u001b[49m\u001b[38;5;241;43m=\u001b[39;49m\u001b[43m(\u001b[49m\u001b[43mcand_idx\u001b[49m\u001b[43m,\u001b[49m\u001b[43m \u001b[49m\u001b[43mn_candidates\u001b[49m\u001b[43m)\u001b[49m\u001b[43m,\u001b[49m\n\u001b[0;32m    926\u001b[0m \u001b[43m        \u001b[49m\u001b[38;5;241;43m*\u001b[39;49m\u001b[38;5;241;43m*\u001b[39;49m\u001b[43mfit_and_score_kwargs\u001b[49m\u001b[43m,\u001b[49m\n\u001b[0;32m    927\u001b[0m \u001b[43m    \u001b[49m\u001b[43m)\u001b[49m\n\u001b[0;32m    928\u001b[0m \u001b[43m    \u001b[49m\u001b[38;5;28;43;01mfor\u001b[39;49;00m\u001b[43m \u001b[49m\u001b[43m(\u001b[49m\u001b[43mcand_idx\u001b[49m\u001b[43m,\u001b[49m\u001b[43m \u001b[49m\u001b[43mparameters\u001b[49m\u001b[43m)\u001b[49m\u001b[43m,\u001b[49m\u001b[43m \u001b[49m\u001b[43m(\u001b[49m\u001b[43msplit_idx\u001b[49m\u001b[43m,\u001b[49m\u001b[43m \u001b[49m\u001b[43m(\u001b[49m\u001b[43mtrain\u001b[49m\u001b[43m,\u001b[49m\u001b[43m \u001b[49m\u001b[43mtest\u001b[49m\u001b[43m)\u001b[49m\u001b[43m)\u001b[49m\u001b[43m \u001b[49m\u001b[38;5;129;43;01min\u001b[39;49;00m\u001b[43m \u001b[49m\u001b[43mproduct\u001b[49m\u001b[43m(\u001b[49m\n\u001b[0;32m    929\u001b[0m \u001b[43m        \u001b[49m\u001b[38;5;28;43menumerate\u001b[39;49m\u001b[43m(\u001b[49m\u001b[43mcandidate_params\u001b[49m\u001b[43m)\u001b[49m\u001b[43m,\u001b[49m\n\u001b[0;32m    930\u001b[0m \u001b[43m        \u001b[49m\u001b[38;5;28;43menumerate\u001b[39;49m\u001b[43m(\u001b[49m\u001b[43mcv\u001b[49m\u001b[38;5;241;43m.\u001b[39;49m\u001b[43msplit\u001b[49m\u001b[43m(\u001b[49m\u001b[43mX\u001b[49m\u001b[43m,\u001b[49m\u001b[43m \u001b[49m\u001b[43my\u001b[49m\u001b[43m,\u001b[49m\u001b[43m \u001b[49m\u001b[38;5;241;43m*\u001b[39;49m\u001b[38;5;241;43m*\u001b[39;49m\u001b[43mrouted_params\u001b[49m\u001b[38;5;241;43m.\u001b[39;49m\u001b[43msplitter\u001b[49m\u001b[38;5;241;43m.\u001b[39;49m\u001b[43msplit\u001b[49m\u001b[43m)\u001b[49m\u001b[43m)\u001b[49m\u001b[43m,\u001b[49m\n\u001b[0;32m    931\u001b[0m \u001b[43m    \u001b[49m\u001b[43m)\u001b[49m\n\u001b[0;32m    932\u001b[0m \u001b[43m\u001b[49m\u001b[43m)\u001b[49m\n\u001b[0;32m    934\u001b[0m \u001b[38;5;28;01mif\u001b[39;00m \u001b[38;5;28mlen\u001b[39m(out) \u001b[38;5;241m<\u001b[39m \u001b[38;5;241m1\u001b[39m:\n\u001b[0;32m    935\u001b[0m     \u001b[38;5;28;01mraise\u001b[39;00m \u001b[38;5;167;01mValueError\u001b[39;00m(\n\u001b[0;32m    936\u001b[0m         \u001b[38;5;124m\"\u001b[39m\u001b[38;5;124mNo fits were performed. \u001b[39m\u001b[38;5;124m\"\u001b[39m\n\u001b[0;32m    937\u001b[0m         \u001b[38;5;124m\"\u001b[39m\u001b[38;5;124mWas the CV iterator empty? \u001b[39m\u001b[38;5;124m\"\u001b[39m\n\u001b[0;32m    938\u001b[0m         \u001b[38;5;124m\"\u001b[39m\u001b[38;5;124mWere there no candidates?\u001b[39m\u001b[38;5;124m\"\u001b[39m\n\u001b[0;32m    939\u001b[0m     )\n",
      "File \u001b[1;32mc:\\Users\\Tom Gjonaj\\Desktop\\Projects\\box-officer\\env\\Lib\\site-packages\\sklearn\\utils\\parallel.py:67\u001b[0m, in \u001b[0;36mParallel.__call__\u001b[1;34m(self, iterable)\u001b[0m\n\u001b[0;32m     62\u001b[0m config \u001b[38;5;241m=\u001b[39m get_config()\n\u001b[0;32m     63\u001b[0m iterable_with_config \u001b[38;5;241m=\u001b[39m (\n\u001b[0;32m     64\u001b[0m     (_with_config(delayed_func, config), args, kwargs)\n\u001b[0;32m     65\u001b[0m     \u001b[38;5;28;01mfor\u001b[39;00m delayed_func, args, kwargs \u001b[38;5;129;01min\u001b[39;00m iterable\n\u001b[0;32m     66\u001b[0m )\n\u001b[1;32m---> 67\u001b[0m \u001b[38;5;28;01mreturn\u001b[39;00m \u001b[38;5;28;43msuper\u001b[39;49m\u001b[43m(\u001b[49m\u001b[43m)\u001b[49m\u001b[38;5;241;43m.\u001b[39;49m\u001b[38;5;21;43m__call__\u001b[39;49m\u001b[43m(\u001b[49m\u001b[43miterable_with_config\u001b[49m\u001b[43m)\u001b[49m\n",
      "File \u001b[1;32mc:\\Users\\Tom Gjonaj\\Desktop\\Projects\\box-officer\\env\\Lib\\site-packages\\joblib\\parallel.py:1863\u001b[0m, in \u001b[0;36mParallel.__call__\u001b[1;34m(self, iterable)\u001b[0m\n\u001b[0;32m   1861\u001b[0m     output \u001b[38;5;241m=\u001b[39m \u001b[38;5;28mself\u001b[39m\u001b[38;5;241m.\u001b[39m_get_sequential_output(iterable)\n\u001b[0;32m   1862\u001b[0m     \u001b[38;5;28mnext\u001b[39m(output)\n\u001b[1;32m-> 1863\u001b[0m     \u001b[38;5;28;01mreturn\u001b[39;00m output \u001b[38;5;28;01mif\u001b[39;00m \u001b[38;5;28mself\u001b[39m\u001b[38;5;241m.\u001b[39mreturn_generator \u001b[38;5;28;01melse\u001b[39;00m \u001b[38;5;28;43mlist\u001b[39;49m\u001b[43m(\u001b[49m\u001b[43moutput\u001b[49m\u001b[43m)\u001b[49m\n\u001b[0;32m   1865\u001b[0m \u001b[38;5;66;03m# Let's create an ID that uniquely identifies the current call. If the\u001b[39;00m\n\u001b[0;32m   1866\u001b[0m \u001b[38;5;66;03m# call is interrupted early and that the same instance is immediately\u001b[39;00m\n\u001b[0;32m   1867\u001b[0m \u001b[38;5;66;03m# re-used, this id will be used to prevent workers that were\u001b[39;00m\n\u001b[0;32m   1868\u001b[0m \u001b[38;5;66;03m# concurrently finalizing a task from the previous call to run the\u001b[39;00m\n\u001b[0;32m   1869\u001b[0m \u001b[38;5;66;03m# callback.\u001b[39;00m\n\u001b[0;32m   1870\u001b[0m \u001b[38;5;28;01mwith\u001b[39;00m \u001b[38;5;28mself\u001b[39m\u001b[38;5;241m.\u001b[39m_lock:\n",
      "File \u001b[1;32mc:\\Users\\Tom Gjonaj\\Desktop\\Projects\\box-officer\\env\\Lib\\site-packages\\joblib\\parallel.py:1792\u001b[0m, in \u001b[0;36mParallel._get_sequential_output\u001b[1;34m(self, iterable)\u001b[0m\n\u001b[0;32m   1790\u001b[0m \u001b[38;5;28mself\u001b[39m\u001b[38;5;241m.\u001b[39mn_dispatched_batches \u001b[38;5;241m+\u001b[39m\u001b[38;5;241m=\u001b[39m \u001b[38;5;241m1\u001b[39m\n\u001b[0;32m   1791\u001b[0m \u001b[38;5;28mself\u001b[39m\u001b[38;5;241m.\u001b[39mn_dispatched_tasks \u001b[38;5;241m+\u001b[39m\u001b[38;5;241m=\u001b[39m \u001b[38;5;241m1\u001b[39m\n\u001b[1;32m-> 1792\u001b[0m res \u001b[38;5;241m=\u001b[39m \u001b[43mfunc\u001b[49m\u001b[43m(\u001b[49m\u001b[38;5;241;43m*\u001b[39;49m\u001b[43margs\u001b[49m\u001b[43m,\u001b[49m\u001b[43m \u001b[49m\u001b[38;5;241;43m*\u001b[39;49m\u001b[38;5;241;43m*\u001b[39;49m\u001b[43mkwargs\u001b[49m\u001b[43m)\u001b[49m\n\u001b[0;32m   1793\u001b[0m \u001b[38;5;28mself\u001b[39m\u001b[38;5;241m.\u001b[39mn_completed_tasks \u001b[38;5;241m+\u001b[39m\u001b[38;5;241m=\u001b[39m \u001b[38;5;241m1\u001b[39m\n\u001b[0;32m   1794\u001b[0m \u001b[38;5;28mself\u001b[39m\u001b[38;5;241m.\u001b[39mprint_progress()\n",
      "File \u001b[1;32mc:\\Users\\Tom Gjonaj\\Desktop\\Projects\\box-officer\\env\\Lib\\site-packages\\sklearn\\utils\\parallel.py:129\u001b[0m, in \u001b[0;36m_FuncWrapper.__call__\u001b[1;34m(self, *args, **kwargs)\u001b[0m\n\u001b[0;32m    127\u001b[0m     config \u001b[38;5;241m=\u001b[39m {}\n\u001b[0;32m    128\u001b[0m \u001b[38;5;28;01mwith\u001b[39;00m config_context(\u001b[38;5;241m*\u001b[39m\u001b[38;5;241m*\u001b[39mconfig):\n\u001b[1;32m--> 129\u001b[0m     \u001b[38;5;28;01mreturn\u001b[39;00m \u001b[38;5;28;43mself\u001b[39;49m\u001b[38;5;241;43m.\u001b[39;49m\u001b[43mfunction\u001b[49m\u001b[43m(\u001b[49m\u001b[38;5;241;43m*\u001b[39;49m\u001b[43margs\u001b[49m\u001b[43m,\u001b[49m\u001b[43m \u001b[49m\u001b[38;5;241;43m*\u001b[39;49m\u001b[38;5;241;43m*\u001b[39;49m\u001b[43mkwargs\u001b[49m\u001b[43m)\u001b[49m\n",
      "File \u001b[1;32mc:\\Users\\Tom Gjonaj\\Desktop\\Projects\\box-officer\\env\\Lib\\site-packages\\sklearn\\model_selection\\_validation.py:895\u001b[0m, in \u001b[0;36m_fit_and_score\u001b[1;34m(estimator, X, y, scorer, train, test, verbose, parameters, fit_params, score_params, return_train_score, return_parameters, return_n_test_samples, return_times, return_estimator, split_progress, candidate_progress, error_score)\u001b[0m\n\u001b[0;32m    893\u001b[0m         estimator\u001b[38;5;241m.\u001b[39mfit(X_train, \u001b[38;5;241m*\u001b[39m\u001b[38;5;241m*\u001b[39mfit_params)\n\u001b[0;32m    894\u001b[0m     \u001b[38;5;28;01melse\u001b[39;00m:\n\u001b[1;32m--> 895\u001b[0m         \u001b[43mestimator\u001b[49m\u001b[38;5;241;43m.\u001b[39;49m\u001b[43mfit\u001b[49m\u001b[43m(\u001b[49m\u001b[43mX_train\u001b[49m\u001b[43m,\u001b[49m\u001b[43m \u001b[49m\u001b[43my_train\u001b[49m\u001b[43m,\u001b[49m\u001b[43m \u001b[49m\u001b[38;5;241;43m*\u001b[39;49m\u001b[38;5;241;43m*\u001b[39;49m\u001b[43mfit_params\u001b[49m\u001b[43m)\u001b[49m\n\u001b[0;32m    897\u001b[0m \u001b[38;5;28;01mexcept\u001b[39;00m \u001b[38;5;167;01mException\u001b[39;00m:\n\u001b[0;32m    898\u001b[0m     \u001b[38;5;66;03m# Note fit time as time until error\u001b[39;00m\n\u001b[0;32m    899\u001b[0m     fit_time \u001b[38;5;241m=\u001b[39m time\u001b[38;5;241m.\u001b[39mtime() \u001b[38;5;241m-\u001b[39m start_time\n",
      "Cell \u001b[1;32mIn[90], line 50\u001b[0m, in \u001b[0;36mPyTorchRegressor.fit\u001b[1;34m(self, X, y)\u001b[0m\n\u001b[0;32m     48\u001b[0m optimizer\u001b[38;5;241m.\u001b[39mzero_grad()\n\u001b[0;32m     49\u001b[0m outputs \u001b[38;5;241m=\u001b[39m \u001b[38;5;28mself\u001b[39m\u001b[38;5;241m.\u001b[39mmodel(batch_X)\n\u001b[1;32m---> 50\u001b[0m loss \u001b[38;5;241m=\u001b[39m \u001b[43mcriterion\u001b[49m\u001b[43m(\u001b[49m\u001b[43moutputs\u001b[49m\u001b[43m,\u001b[49m\u001b[43m \u001b[49m\u001b[43mbatch_y\u001b[49m\u001b[43m)\u001b[49m\n\u001b[0;32m     51\u001b[0m loss\u001b[38;5;241m.\u001b[39mbackward()\n\u001b[0;32m     52\u001b[0m optimizer\u001b[38;5;241m.\u001b[39mstep()\n",
      "File \u001b[1;32mc:\\Users\\Tom Gjonaj\\Desktop\\Projects\\box-officer\\env\\Lib\\site-packages\\torch\\nn\\modules\\module.py:1511\u001b[0m, in \u001b[0;36mModule._wrapped_call_impl\u001b[1;34m(self, *args, **kwargs)\u001b[0m\n\u001b[0;32m   1509\u001b[0m     \u001b[38;5;28;01mreturn\u001b[39;00m \u001b[38;5;28mself\u001b[39m\u001b[38;5;241m.\u001b[39m_compiled_call_impl(\u001b[38;5;241m*\u001b[39margs, \u001b[38;5;241m*\u001b[39m\u001b[38;5;241m*\u001b[39mkwargs)  \u001b[38;5;66;03m# type: ignore[misc]\u001b[39;00m\n\u001b[0;32m   1510\u001b[0m \u001b[38;5;28;01melse\u001b[39;00m:\n\u001b[1;32m-> 1511\u001b[0m     \u001b[38;5;28;01mreturn\u001b[39;00m \u001b[38;5;28;43mself\u001b[39;49m\u001b[38;5;241;43m.\u001b[39;49m\u001b[43m_call_impl\u001b[49m\u001b[43m(\u001b[49m\u001b[38;5;241;43m*\u001b[39;49m\u001b[43margs\u001b[49m\u001b[43m,\u001b[49m\u001b[43m \u001b[49m\u001b[38;5;241;43m*\u001b[39;49m\u001b[38;5;241;43m*\u001b[39;49m\u001b[43mkwargs\u001b[49m\u001b[43m)\u001b[49m\n",
      "File \u001b[1;32mc:\\Users\\Tom Gjonaj\\Desktop\\Projects\\box-officer\\env\\Lib\\site-packages\\torch\\nn\\modules\\module.py:1520\u001b[0m, in \u001b[0;36mModule._call_impl\u001b[1;34m(self, *args, **kwargs)\u001b[0m\n\u001b[0;32m   1515\u001b[0m \u001b[38;5;66;03m# If we don't have any hooks, we want to skip the rest of the logic in\u001b[39;00m\n\u001b[0;32m   1516\u001b[0m \u001b[38;5;66;03m# this function, and just call forward.\u001b[39;00m\n\u001b[0;32m   1517\u001b[0m \u001b[38;5;28;01mif\u001b[39;00m \u001b[38;5;129;01mnot\u001b[39;00m (\u001b[38;5;28mself\u001b[39m\u001b[38;5;241m.\u001b[39m_backward_hooks \u001b[38;5;129;01mor\u001b[39;00m \u001b[38;5;28mself\u001b[39m\u001b[38;5;241m.\u001b[39m_backward_pre_hooks \u001b[38;5;129;01mor\u001b[39;00m \u001b[38;5;28mself\u001b[39m\u001b[38;5;241m.\u001b[39m_forward_hooks \u001b[38;5;129;01mor\u001b[39;00m \u001b[38;5;28mself\u001b[39m\u001b[38;5;241m.\u001b[39m_forward_pre_hooks\n\u001b[0;32m   1518\u001b[0m         \u001b[38;5;129;01mor\u001b[39;00m _global_backward_pre_hooks \u001b[38;5;129;01mor\u001b[39;00m _global_backward_hooks\n\u001b[0;32m   1519\u001b[0m         \u001b[38;5;129;01mor\u001b[39;00m _global_forward_hooks \u001b[38;5;129;01mor\u001b[39;00m _global_forward_pre_hooks):\n\u001b[1;32m-> 1520\u001b[0m     \u001b[38;5;28;01mreturn\u001b[39;00m \u001b[43mforward_call\u001b[49m\u001b[43m(\u001b[49m\u001b[38;5;241;43m*\u001b[39;49m\u001b[43margs\u001b[49m\u001b[43m,\u001b[49m\u001b[43m \u001b[49m\u001b[38;5;241;43m*\u001b[39;49m\u001b[38;5;241;43m*\u001b[39;49m\u001b[43mkwargs\u001b[49m\u001b[43m)\u001b[49m\n\u001b[0;32m   1522\u001b[0m \u001b[38;5;28;01mtry\u001b[39;00m:\n\u001b[0;32m   1523\u001b[0m     result \u001b[38;5;241m=\u001b[39m \u001b[38;5;28;01mNone\u001b[39;00m\n",
      "File \u001b[1;32mc:\\Users\\Tom Gjonaj\\Desktop\\Projects\\box-officer\\env\\Lib\\site-packages\\torch\\nn\\modules\\loss.py:535\u001b[0m, in \u001b[0;36mMSELoss.forward\u001b[1;34m(self, input, target)\u001b[0m\n\u001b[0;32m    534\u001b[0m \u001b[38;5;28;01mdef\u001b[39;00m \u001b[38;5;21mforward\u001b[39m(\u001b[38;5;28mself\u001b[39m, \u001b[38;5;28minput\u001b[39m: Tensor, target: Tensor) \u001b[38;5;241m-\u001b[39m\u001b[38;5;241m>\u001b[39m Tensor:\n\u001b[1;32m--> 535\u001b[0m     \u001b[38;5;28;01mreturn\u001b[39;00m \u001b[43mF\u001b[49m\u001b[38;5;241;43m.\u001b[39;49m\u001b[43mmse_loss\u001b[49m\u001b[43m(\u001b[49m\u001b[38;5;28;43minput\u001b[39;49m\u001b[43m,\u001b[49m\u001b[43m \u001b[49m\u001b[43mtarget\u001b[49m\u001b[43m,\u001b[49m\u001b[43m \u001b[49m\u001b[43mreduction\u001b[49m\u001b[38;5;241;43m=\u001b[39;49m\u001b[38;5;28;43mself\u001b[39;49m\u001b[38;5;241;43m.\u001b[39;49m\u001b[43mreduction\u001b[49m\u001b[43m)\u001b[49m\n",
      "File \u001b[1;32mc:\\Users\\Tom Gjonaj\\Desktop\\Projects\\box-officer\\env\\Lib\\site-packages\\torch\\nn\\functional.py:3339\u001b[0m, in \u001b[0;36mmse_loss\u001b[1;34m(input, target, size_average, reduce, reduction)\u001b[0m\n\u001b[0;32m   3336\u001b[0m     reduction \u001b[38;5;241m=\u001b[39m _Reduction\u001b[38;5;241m.\u001b[39mlegacy_get_string(size_average, reduce)\n\u001b[0;32m   3338\u001b[0m expanded_input, expanded_target \u001b[38;5;241m=\u001b[39m torch\u001b[38;5;241m.\u001b[39mbroadcast_tensors(\u001b[38;5;28minput\u001b[39m, target)\n\u001b[1;32m-> 3339\u001b[0m \u001b[38;5;28;01mreturn\u001b[39;00m \u001b[43mtorch\u001b[49m\u001b[38;5;241;43m.\u001b[39;49m\u001b[43m_C\u001b[49m\u001b[38;5;241;43m.\u001b[39;49m\u001b[43m_nn\u001b[49m\u001b[38;5;241;43m.\u001b[39;49m\u001b[43mmse_loss\u001b[49m\u001b[43m(\u001b[49m\u001b[43mexpanded_input\u001b[49m\u001b[43m,\u001b[49m\u001b[43m \u001b[49m\u001b[43mexpanded_target\u001b[49m\u001b[43m,\u001b[49m\u001b[43m \u001b[49m\u001b[43m_Reduction\u001b[49m\u001b[38;5;241;43m.\u001b[39;49m\u001b[43mget_enum\u001b[49m\u001b[43m(\u001b[49m\u001b[43mreduction\u001b[49m\u001b[43m)\u001b[49m\u001b[43m)\u001b[49m\n",
      "\u001b[1;31mKeyboardInterrupt\u001b[0m: "
     ]
    }
   ],
   "source": [
    "param_grid = {\n",
    "    'num_neurons': [[128, 64, 32], [256, 128, 64], [64, 128, 64], [32, 64, 128, 256, 128, 64, 32]], # [72, 128, 256, 128, 72, 6, ]\n",
    "    'dropout_rate': [0.3, .6],\n",
    "    'learning_rate': [0.01],\n",
    "    'epochs': [100],\n",
    "    'batch_size': [64]\n",
    "}\n",
    "\n",
    "model = PyTorchRegressor(CustomDNN, input_shape=embeddings_train_df.to_numpy().shape[1])\n",
    "\n",
    "grid = GridSearchCV(estimator=model, param_grid=param_grid, cv=3, scoring='neg_mean_absolute_error')\n",
    "grid_result = grid.fit(embeddings_train_df.to_numpy(), Y_train.to_numpy())\n",
    "\n",
    "print(\"Best: %f using %s\" % (grid_result.best_score_, grid_result.best_params_))"
   ]
  },
  {
   "cell_type": "code",
   "execution_count": 20,
   "metadata": {},
   "outputs": [
    {
     "name": "stderr",
     "output_type": "stream",
     "text": [
      "Epochs: 100%|██████████| 100/100 [00:05<00:00, 18.97it/s, loss=4227643467577394.0000]"
     ]
    },
    {
     "name": "stdout",
     "output_type": "stream",
     "text": [
      "Test MSE: 2.2334150827177252e+16\n",
      "Test RMSE: 149446146.913118\n",
      "Test MAE: 77469780.94117647\n",
      "Test R²: 0.5581351698588572\n"
     ]
    },
    {
     "name": "stderr",
     "output_type": "stream",
     "text": [
      "\n"
     ]
    }
   ],
   "source": [
    "from sklearn.metrics import mean_squared_error, mean_absolute_error, r2_score\n",
    "\n",
    "# Assuming X_test_scaled is your scaled test set features and Y_test is the actual target values\n",
    "# First, you need to predict on your test set\n",
    "\n",
    "model = PyTorchRegressor(CustomDNN, input_shape=embeddings_train_df.to_numpy().shape[1], num_neurons=[256, 128, 64], dropout_rate=0.2, learning_rate=0.0001, batch_size=64)\n",
    "model.fit(embeddings_train_df.to_numpy(), Y_train.to_numpy())\n",
    "\n",
    "test_predictions = model.predict(embeddings_test_df.to_numpy())\n",
    "\n",
    "\n",
    "# Calculate the metrics\n",
    "mse_test = mean_squared_error(Y_test, test_predictions)\n",
    "rmse_test = np.sqrt(mse_test)  # RMSE\n",
    "mae_test = mean_absolute_error(Y_test, test_predictions)\n",
    "r2_test = r2_score(Y_test, test_predictions)\n",
    "\n",
    "print(f\"Test MSE: {mse_test}\")\n",
    "print(f\"Test RMSE: {rmse_test}\")\n",
    "print(f\"Test MAE: {mae_test}\")\n",
    "print(f\"Test R²: {r2_test}\")"
   ]
  },
  {
   "cell_type": "code",
   "execution_count": 21,
   "metadata": {},
   "outputs": [
    {
     "data": {
      "image/png": "[encoded data removed]",
      "text/plain": [
       "<Figure size 1000x600 with 1 Axes>"
      ]
     },
     "metadata": {},
     "output_type": "display_data"
    }
   ],
   "source": [
    "import matplotlib.pyplot as plt\n",
    "\n",
    "# Scatter plot of actual vs. predicted values\n",
    "plt.figure(figsize=(10, 6))\n",
    "plt.scatter(Y_test, test_predictions, alpha=0.5)\n",
    "plt.xlabel('Actual Revenue')\n",
    "plt.ylabel('Predicted Revenue')\n",
    "plt.title('Actual vs. Predicted Revenue')\n",
    "plt.grid(True)\n",
    "\n",
    "# Plot the identity line (y=x) to visualize accuracy\n",
    "diagonal = np.linspace(start=min(Y_test), stop=max(Y_test), num=1000)\n",
    "plt.plot(diagonal, diagonal, '-r', label='Perfect Predictions')\n",
    "plt.legend()\n",
    "\n",
    "plt.show()"
   ]
  },
  {
   "cell_type": "code",
   "execution_count": null,
   "metadata": {},
   "outputs": [],
   "source": []
  }
 ],
 "metadata": {
  "kernelspec": {
   "display_name": "env",
   "language": "python",
   "name": "python3"
  },
  "language_info": {
   "codemirror_mode": {
    "name": "ipython",
    "version": 3
   },
   "file_extension": ".py",
   "mimetype": "text/x-python",
   "name": "python",
   "nbconvert_exporter": "python",
   "pygments_lexer": "ipython3",
   "version": "3.12.2"
  }
 },
 "nbformat": 4,
 "nbformat_minor": 2
}
